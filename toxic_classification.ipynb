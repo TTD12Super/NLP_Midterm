{
 "cells": [
  {
   "cell_type": "code",
   "execution_count": 2,
   "id": "28329765",
   "metadata": {},
   "outputs": [],
   "source": [
    "import pandas as pd\n",
    "import numpy as np"
   ]
  },
  {
   "cell_type": "code",
   "execution_count": 3,
   "id": "38862af8",
   "metadata": {},
   "outputs": [],
   "source": [
    "df_train = pd.read_csv(\"data/train.csv\")\n",
    "df_test = pd.read_csv(\"data/test.csv\")"
   ]
  },
  {
   "cell_type": "code",
   "execution_count": 4,
   "id": "dc3a38d5",
   "metadata": {},
   "outputs": [
    {
     "data": {
      "text/html": [
       "<div>\n",
       "<style scoped>\n",
       "    .dataframe tbody tr th:only-of-type {\n",
       "        vertical-align: middle;\n",
       "    }\n",
       "\n",
       "    .dataframe tbody tr th {\n",
       "        vertical-align: top;\n",
       "    }\n",
       "\n",
       "    .dataframe thead th {\n",
       "        text-align: right;\n",
       "    }\n",
       "</style>\n",
       "<table border=\"1\" class=\"dataframe\">\n",
       "  <thead>\n",
       "    <tr style=\"text-align: right;\">\n",
       "      <th></th>\n",
       "      <th>free_text</th>\n",
       "      <th>label_id</th>\n",
       "    </tr>\n",
       "  </thead>\n",
       "  <tbody>\n",
       "    <tr>\n",
       "      <th>0</th>\n",
       "      <td>Đừng cố biện minh =)))) choi lon</td>\n",
       "      <td>0</td>\n",
       "    </tr>\n",
       "    <tr>\n",
       "      <th>1</th>\n",
       "      <td>Haizz. Nthe này thì dân khổ quá</td>\n",
       "      <td>1</td>\n",
       "    </tr>\n",
       "    <tr>\n",
       "      <th>2</th>\n",
       "      <td>the nay ma chi phat gay roi trat tu cong cong ...</td>\n",
       "      <td>0</td>\n",
       "    </tr>\n",
       "    <tr>\n",
       "      <th>3</th>\n",
       "      <td>Mua cho em hộp bcs mĩ sài cho oai :))</td>\n",
       "      <td>0</td>\n",
       "    </tr>\n",
       "    <tr>\n",
       "      <th>4</th>\n",
       "      <td>coin card :3</td>\n",
       "      <td>1</td>\n",
       "    </tr>\n",
       "  </tbody>\n",
       "</table>\n",
       "</div>"
      ],
      "text/plain": [
       "                                           free_text  label_id\n",
       "0                   Đừng cố biện minh =)))) choi lon         0\n",
       "1                    Haizz. Nthe này thì dân khổ quá         1\n",
       "2  the nay ma chi phat gay roi trat tu cong cong ...         0\n",
       "3              Mua cho em hộp bcs mĩ sài cho oai :))         0\n",
       "4                                       coin card :3         1"
      ]
     },
     "execution_count": 4,
     "metadata": {},
     "output_type": "execute_result"
    }
   ],
   "source": [
    "df_test.head(5)"
   ]
  },
  {
   "cell_type": "code",
   "execution_count": 5,
   "id": "4762c341",
   "metadata": {},
   "outputs": [
    {
     "data": {
      "text/plain": [
       "free_text    0\n",
       "label_id     0\n",
       "dtype: int64"
      ]
     },
     "execution_count": 5,
     "metadata": {},
     "output_type": "execute_result"
    }
   ],
   "source": [
    "df_train = df_train.dropna()\n",
    "df_train.isna().sum()"
   ]
  },
  {
   "cell_type": "code",
   "execution_count": 6,
   "id": "ab85871a",
   "metadata": {},
   "outputs": [
    {
     "data": {
      "text/plain": [
       "free_text    0\n",
       "label_id     0\n",
       "dtype: int64"
      ]
     },
     "execution_count": 6,
     "metadata": {},
     "output_type": "execute_result"
    }
   ],
   "source": [
    "df_test = df_test.dropna()\n",
    "df_test.isna().sum()"
   ]
  },
  {
   "cell_type": "code",
   "execution_count": 35,
   "id": "e465dd18",
   "metadata": {},
   "outputs": [],
   "source": [
    "# Giả sử cột nhãn là 'label_id'\n",
    "df_train[\"label_id\"] = df_train[\"label_id\"].replace(2, 1)\n",
    "df_test[\"label_id\"] = df_test[\"label_id\"].replace(2, 1)  # nếu test cũng có nhãn 2\n"
   ]
  },
  {
   "cell_type": "markdown",
   "id": "743b3bc4",
   "metadata": {},
   "source": [
    "# Hàm làm sạch văn bản"
   ]
  },
  {
   "cell_type": "code",
   "execution_count": 56,
   "id": "a5562125",
   "metadata": {},
   "outputs": [
    {
     "data": {
      "text/plain": [
       "0                              Đừng cố biện minh choi lon\n",
       "1                          Haizz Nthe này thì dân khổ quá\n",
       "2       the nay ma chi phat gay roi trat tu cong cong ...\n",
       "3                       Mua cho em hộp bcs mĩ sài cho oai\n",
       "4                                             coin card 3\n",
       "                              ...                        \n",
       "6675                   Nghe cũng được Nhưng vẫn cày views\n",
       "6676    Pha team up căng cực đến từ vị trí ông chủ đầm...\n",
       "6677    Thanh Nhường sao m đọc đc cmt của t thế tiên sư m\n",
       "6678    Đúng rồi nhìn có ria mép với mặt giống đàn ông...\n",
       "6679    Chưa chắc Mỹ bị nhiễm virus corona Vũ hán của ...\n",
       "Name: free_text, Length: 6680, dtype: object"
      ]
     },
     "execution_count": 56,
     "metadata": {},
     "output_type": "execute_result"
    }
   ],
   "source": [
    "import re\n",
    "def clean_text(sentence):\n",
    "    sentence = re.sub(r'[^a-zA-Z0-9À-Ỵà-ỹ\\s]', '', sentence)\n",
    "    sentence = re.sub(r'\\s+', ' ', sentence).strip()\n",
    "\n",
    "    return sentence\n",
    "\n",
    "\n",
    "df_train[\"free_text\"].apply(clean_text)\n",
    "df_test[\"free_text\"].apply(clean_text)\n"
   ]
  },
  {
   "cell_type": "markdown",
   "id": "f5dec521",
   "metadata": {},
   "source": [
    "# Convert word"
   ]
  },
  {
   "cell_type": "markdown",
   "id": "8be2055e",
   "metadata": {},
   "source": [
    "## Binary"
   ]
  },
  {
   "cell_type": "code",
   "execution_count": 37,
   "id": "04dade23",
   "metadata": {},
   "outputs": [],
   "source": [
    "from sklearn.feature_extraction.text import CountVectorizer\n",
    "\n",
    "\n",
    "binary_vectorizer =  CountVectorizer(binary=True)\n",
    "X_train_bi = binary_vectorizer.fit_transform(df_train[\"free_text\"])\n",
    "y_train_bi = df_train[\"label_id\"]\n",
    "X_test_bi = binary_vectorizer.transform(df_test[\"free_text\"])\n",
    "y_test_bi = df_test[\"label_id\"]"
   ]
  },
  {
   "cell_type": "markdown",
   "id": "f8174105",
   "metadata": {},
   "source": [
    "# TFIDF"
   ]
  },
  {
   "cell_type": "code",
   "execution_count": 38,
   "id": "7e8e4c82",
   "metadata": {},
   "outputs": [],
   "source": [
    "from sklearn.feature_extraction.text import TfidfVectorizer\n",
    "\n",
    "tfidf_vectorizer = TfidfVectorizer()\n",
    "\n",
    "\n",
    "X_train_idf = tfidf_vectorizer.fit_transform(df_train[\"free_text\"])\n",
    "X_test_idf  = tfidf_vectorizer.transform(df_test[\"free_text\"])\n",
    "\n",
    "y_train_idf = df_train[\"label_id\"]\n",
    "y_test_idf  = df_test[\"label_id\"]\n"
   ]
  },
  {
   "cell_type": "markdown",
   "id": "29939200",
   "metadata": {},
   "source": [
    "# Word embedding"
   ]
  },
  {
   "cell_type": "markdown",
   "id": "46aaf537",
   "metadata": {},
   "source": [
    "# Models"
   ]
  },
  {
   "cell_type": "code",
   "execution_count": 45,
   "id": "088eb394",
   "metadata": {},
   "outputs": [],
   "source": [
    "# Các model\n",
    "from sklearn.linear_model import LogisticRegression, SGDClassifier\n",
    "from sklearn.naive_bayes import MultinomialNB, BernoulliNB\n",
    "from sklearn.svm import LinearSVC, SVC\n",
    "from sklearn.tree import DecisionTreeClassifier\n",
    "from sklearn.ensemble import RandomForestClassifier, GradientBoostingClassifier\n",
    "from sklearn.metrics import classification_report\n",
    "from sklearn.metrics import accuracy_score\n",
    "\n",
    "\n",
    "models = {\n",
    "    \"Logistic Regression\": LogisticRegression(max_iter=1000),\n",
    "    \"Naive Bayes (Multinomial)\": MultinomialNB(),\n",
    "    \"Linear SVM\": LinearSVC(),\n",
    "    \"Kernel SVM (RBF)\": SVC(kernel=\"rbf\"),\n",
    "    \"SGD Classifier\": SGDClassifier(max_iter=1000, tol=1e-3),\n",
    "    \"Decision Tree\": DecisionTreeClassifier(),\n",
    "    \"Random Forest\": RandomForestClassifier(),\n",
    "    \"Gradient Boosting\": GradientBoostingClassifier()\n",
    "}"
   ]
  },
  {
   "cell_type": "markdown",
   "id": "1b6f803d",
   "metadata": {},
   "source": [
    "## Binary word"
   ]
  },
  {
   "cell_type": "code",
   "execution_count": 46,
   "id": "7fa9a7e6",
   "metadata": {},
   "outputs": [
    {
     "name": "stdout",
     "output_type": "stream",
     "text": [
      "Logistic Regression: 0.8900\n",
      "Naive Bayes (Multinomial): 0.8800\n",
      "Linear SVM: 0.8800\n",
      "Kernel SVM (RBF): 0.8700\n",
      "SGD Classifier: 0.8900\n",
      "Decision Tree: 0.8600\n",
      "Random Forest: 0.8800\n",
      "Gradient Boosting: 0.8700\n"
     ]
    }
   ],
   "source": [
    "accurr_binary = []\n",
    "for name, model in models.items():\n",
    "    model.fit(X_train_bi, y_train_bi)\n",
    "    y_pred_bi = model.predict(X_test_bi)\n",
    "    acc = round(accuracy_score(y_test_bi, y_pred_bi),2)\n",
    "    accurr_binary.append(acc)\n",
    "    print(f\"{name}: {acc:.4f}\")\n",
    "\n",
    "# for name, model in models.items():\n",
    "#     print(\"=\"*60)\n",
    "#     print(f\"Model: {name}\")\n",
    "#     model.fit(X_train, y_train)\n",
    "#     y_pred = model.predict(X_test)\n",
    "#     print(classification_report(y_test, y_pred))"
   ]
  },
  {
   "cell_type": "code",
   "execution_count": 47,
   "id": "dfb3cb77",
   "metadata": {},
   "outputs": [
    {
     "name": "stdout",
     "output_type": "stream",
     "text": [
      "['Logistic Regression', 'Naive Bayes (Multinomial)', 'Linear SVM', 'Kernel SVM (RBF)', 'SGD Classifier', 'Decision Tree', 'Random Forest', 'Gradient Boosting']\n",
      "[0.89, 0.88, 0.88, 0.87, 0.89, 0.86, 0.88, 0.87]\n"
     ]
    }
   ],
   "source": [
    "models_name = [name for name,_ in models.items()]\n",
    "print(models_name)\n",
    "print(accurr_binary)"
   ]
  },
  {
   "cell_type": "code",
   "execution_count": 48,
   "id": "9f3f910c",
   "metadata": {},
   "outputs": [
    {
     "data": {
      "image/png": "[encoded data removed]",
      "text/plain": [
       "<Figure size 800x500 with 1 Axes>"
      ]
     },
     "metadata": {},
     "output_type": "display_data"
    }
   ],
   "source": [
    "import matplotlib.pyplot as plt\n",
    "\n",
    "plt.figure(figsize=(8,5))\n",
    "plt.bar(models_name, accurr_binary, color=\"red\")\n",
    "plt.xticks(rotation=45, ha=\"right\")\n",
    "plt.ylabel(\"Accuracy\")\n",
    "plt.title(\"So sánh độ chính xác các mô hình\")\n",
    "plt.show()"
   ]
  },
  {
   "cell_type": "code",
   "execution_count": 50,
   "id": "e9bc0ccf",
   "metadata": {},
   "outputs": [
    {
     "name": "stdout",
     "output_type": "stream",
     "text": [
      "Predictions on new sentences:\n",
      "\n",
      "Logistic Regression:\n",
      "sentence: Tao ghét mày #$%^^^,label: 0\n",
      "sentence: Mày thật ngu %%%#^@^^,label: 1\n",
      "sentence: Chúc bạn một ngày vui vẻ,label: 0\n",
      "sentence: Cố gắng học tập chăm chỉ nhé,label: 0\n",
      "sentence: Đừng có làm phiền tao nữa,label: 0\n",
      "sentence: Mong bạn luôn hạnh phúc,label: 0\n",
      "sentence: Sao mày ngu thế hả?,label: 1\n",
      "sentence: Học giỏi thì tương lai sáng lạn,label: 0\n",
      "sentence: m là thằng đĩ chóT đụ con mẹ m như cái bồn chứa tinh,label: 1\n",
      "\n",
      "Naive Bayes (Multinomial):\n",
      "sentence: Tao ghét mày #$%^^^,label: 1\n",
      "sentence: Mày thật ngu %%%#^@^^,label: 1\n",
      "sentence: Chúc bạn một ngày vui vẻ,label: 0\n",
      "sentence: Cố gắng học tập chăm chỉ nhé,label: 0\n",
      "sentence: Đừng có làm phiền tao nữa,label: 0\n",
      "sentence: Mong bạn luôn hạnh phúc,label: 0\n",
      "sentence: Sao mày ngu thế hả?,label: 1\n",
      "sentence: Học giỏi thì tương lai sáng lạn,label: 0\n",
      "sentence: m là thằng đĩ chóT đụ con mẹ m như cái bồn chứa tinh,label: 1\n",
      "\n",
      "Linear SVM:\n",
      "sentence: Tao ghét mày #$%^^^,label: 0\n",
      "sentence: Mày thật ngu %%%#^@^^,label: 1\n",
      "sentence: Chúc bạn một ngày vui vẻ,label: 0\n",
      "sentence: Cố gắng học tập chăm chỉ nhé,label: 0\n",
      "sentence: Đừng có làm phiền tao nữa,label: 0\n",
      "sentence: Mong bạn luôn hạnh phúc,label: 0\n",
      "sentence: Sao mày ngu thế hả?,label: 1\n",
      "sentence: Học giỏi thì tương lai sáng lạn,label: 0\n",
      "sentence: m là thằng đĩ chóT đụ con mẹ m như cái bồn chứa tinh,label: 1\n",
      "\n",
      "Kernel SVM (RBF):\n",
      "sentence: Tao ghét mày #$%^^^,label: 0\n",
      "sentence: Mày thật ngu %%%#^@^^,label: 1\n",
      "sentence: Chúc bạn một ngày vui vẻ,label: 0\n",
      "sentence: Cố gắng học tập chăm chỉ nhé,label: 0\n",
      "sentence: Đừng có làm phiền tao nữa,label: 0\n",
      "sentence: Mong bạn luôn hạnh phúc,label: 0\n",
      "sentence: Sao mày ngu thế hả?,label: 1\n",
      "sentence: Học giỏi thì tương lai sáng lạn,label: 0\n",
      "sentence: m là thằng đĩ chóT đụ con mẹ m như cái bồn chứa tinh,label: 1\n",
      "\n",
      "SGD Classifier:\n",
      "sentence: Tao ghét mày #$%^^^,label: 0\n",
      "sentence: Mày thật ngu %%%#^@^^,label: 1\n",
      "sentence: Chúc bạn một ngày vui vẻ,label: 0\n",
      "sentence: Cố gắng học tập chăm chỉ nhé,label: 0\n",
      "sentence: Đừng có làm phiền tao nữa,label: 0\n",
      "sentence: Mong bạn luôn hạnh phúc,label: 0\n",
      "sentence: Sao mày ngu thế hả?,label: 1\n",
      "sentence: Học giỏi thì tương lai sáng lạn,label: 0\n",
      "sentence: m là thằng đĩ chóT đụ con mẹ m như cái bồn chứa tinh,label: 1\n",
      "\n",
      "Decision Tree:\n",
      "sentence: Tao ghét mày #$%^^^,label: 0\n",
      "sentence: Mày thật ngu %%%#^@^^,label: 1\n",
      "sentence: Chúc bạn một ngày vui vẻ,label: 0\n",
      "sentence: Cố gắng học tập chăm chỉ nhé,label: 0\n",
      "sentence: Đừng có làm phiền tao nữa,label: 0\n",
      "sentence: Mong bạn luôn hạnh phúc,label: 0\n",
      "sentence: Sao mày ngu thế hả?,label: 1\n",
      "sentence: Học giỏi thì tương lai sáng lạn,label: 0\n",
      "sentence: m là thằng đĩ chóT đụ con mẹ m như cái bồn chứa tinh,label: 1\n",
      "\n",
      "Random Forest:\n",
      "sentence: Tao ghét mày #$%^^^,label: 0\n",
      "sentence: Mày thật ngu %%%#^@^^,label: 1\n",
      "sentence: Chúc bạn một ngày vui vẻ,label: 0\n",
      "sentence: Cố gắng học tập chăm chỉ nhé,label: 0\n",
      "sentence: Đừng có làm phiền tao nữa,label: 0\n",
      "sentence: Mong bạn luôn hạnh phúc,label: 0\n",
      "sentence: Sao mày ngu thế hả?,label: 1\n",
      "sentence: Học giỏi thì tương lai sáng lạn,label: 0\n",
      "sentence: m là thằng đĩ chóT đụ con mẹ m như cái bồn chứa tinh,label: 1\n",
      "\n",
      "Gradient Boosting:\n",
      "sentence: Tao ghét mày #$%^^^,label: 0\n",
      "sentence: Mày thật ngu %%%#^@^^,label: 1\n",
      "sentence: Chúc bạn một ngày vui vẻ,label: 0\n",
      "sentence: Cố gắng học tập chăm chỉ nhé,label: 0\n",
      "sentence: Đừng có làm phiền tao nữa,label: 0\n",
      "sentence: Mong bạn luôn hạnh phúc,label: 0\n",
      "sentence: Sao mày ngu thế hả?,label: 1\n",
      "sentence: Học giỏi thì tương lai sáng lạn,label: 0\n",
      "sentence: m là thằng đĩ chóT đụ con mẹ m như cái bồn chứa tinh,label: 1\n"
     ]
    }
   ],
   "source": [
    "test_sentences = [\n",
    "    \"Tao ghét mày #$%^^^\",\n",
    "    \"Mày thật ngu %%%#^@^^\",\n",
    "    \"Chúc bạn một ngày vui vẻ\",\n",
    "    \"Cố gắng học tập chăm chỉ nhé\",\n",
    "    \"Đừng có làm phiền tao nữa\",\n",
    "    \"Mong bạn luôn hạnh phúc\",\n",
    "    \"Sao mày ngu thế hả?\",\n",
    "    \"Học giỏi thì tương lai sáng lạn\",\n",
    "    \"m là thằng đĩ chó\"\n",
    "    \"T đụ con mẹ m như cái bồn chứa tinh\"\n",
    "]\n",
    "\n",
    "X_new = [clean_text(sentence) for sentence in test_sentences]\n",
    "X_new = binary_vectorizer.transform(test_sentences)\n",
    "\n",
    "print(\"Predictions on new sentences:\")\n",
    "for name, model in models.items():\n",
    "    y_pred = model.predict(X_new)\n",
    "    print(f\"\\n{name}:\")\n",
    "    for sentence, pred in zip(test_sentences, y_pred):\n",
    "        print(f\"sentence: {sentence},label: {pred}\")\n",
    "\n"
   ]
  },
  {
   "cell_type": "markdown",
   "id": "bec0712b",
   "metadata": {},
   "source": [
    "## TFIDF"
   ]
  },
  {
   "cell_type": "code",
   "execution_count": 55,
   "id": "58e99be8",
   "metadata": {},
   "outputs": [
    {
     "name": "stdout",
     "output_type": "stream",
     "text": [
      "Logistic Regression: 0.8800\n",
      "Naive Bayes (Multinomial): 0.8500\n",
      "Linear SVM: 0.8900\n",
      "Kernel SVM (RBF): 0.8900\n",
      "SGD Classifier: 0.8800\n",
      "Decision Tree: 0.8500\n",
      "Random Forest: 0.8800\n",
      "Gradient Boosting: 0.8700\n",
      "['Logistic Regression', 'Naive Bayes (Multinomial)', 'Linear SVM', 'Kernel SVM (RBF)', 'SGD Classifier', 'Decision Tree', 'Random Forest', 'Gradient Boosting']\n",
      "[0.88, 0.85, 0.89, 0.89, 0.88, 0.85, 0.88, 0.87]\n"
     ]
    },
    {
     "data": {
      "text/plain": [
       "Text(0.5, 1.0, 'So sánh độ chính xác các mô hình')"
      ]
     },
     "execution_count": 55,
     "metadata": {},
     "output_type": "execute_result"
    },
    {
     "data": {
      "image/png": "[encoded data removed]",
      "text/plain": [
       "<Figure size 800x500 with 1 Axes>"
      ]
     },
     "metadata": {},
     "output_type": "display_data"
    }
   ],
   "source": [
    "accurr_tfidf = []\n",
    "for name, model in models.items():\n",
    "    model.fit(X_train_idf, y_train_idf)\n",
    "    y_pred_idf = model.predict(X_test_idf)\n",
    "    acc = round(accuracy_score(y_test_idf, y_pred_idf),2)\n",
    "    accurr_tfidf.append(acc)\n",
    "    print(f\"{name}: {acc:.4f}\")\n",
    "\n",
    "# for name, model in models.items():\n",
    "#     print(\"=\"*60)\n",
    "#     print(f\"Model: {name}\")\n",
    "#     model.fit(X_train, y_train)\n",
    "#     y_pred = model.predict(X_test)\n",
    "#     print(classification_report(y_test, y_pred))\n",
    "\n",
    "models_name = [name for name,_ in models.items()]\n",
    "print(models_name)\n",
    "print(accurr_tfidf)\n",
    "\n",
    "import matplotlib.pyplot as plt\n",
    "\n",
    "plt.figure(figsize=(8,5))\n",
    "plt.bar(models_name, accurr_tfidf, color=\"blue\")\n",
    "plt.xticks(rotation=45, ha=\"right\")\n",
    "plt.ylabel(\"Accuracy\")\n",
    "plt.title(\"So sánh độ chính xác các mô hình\")"
   ]
  },
  {
   "cell_type": "code",
   "execution_count": 54,
   "id": "cd382a1b",
   "metadata": {},
   "outputs": [
    {
     "name": "stdout",
     "output_type": "stream",
     "text": [
      "Predictions on new sentences:\n",
      "\n",
      "Logistic Regression:\n",
      "sentence: Tao ghét mày #$%^^^,label: 0\n",
      "sentence: Mày thật ngu %%%#^@^^,label: 1\n",
      "sentence: Chúc bạn một ngày vui vẻ,label: 0\n",
      "sentence: Cố gắng học tập chăm chỉ nhé,label: 0\n",
      "sentence: Đừng có làm phiền tao nữa,label: 0\n",
      "sentence: Mong bạn luôn hạnh phúc,label: 0\n",
      "sentence: Sao mày ngu thế hả?,label: 1\n",
      "sentence: Học giỏi thì tương lai sáng lạn,label: 0\n",
      "sentence: m là thằng đĩ chó,label: 1\n",
      "sentence: cái bồn chứa tinh,label: 0\n",
      "\n",
      "Naive Bayes (Multinomial):\n",
      "sentence: Tao ghét mày #$%^^^,label: 0\n",
      "sentence: Mày thật ngu %%%#^@^^,label: 1\n",
      "sentence: Chúc bạn một ngày vui vẻ,label: 0\n",
      "sentence: Cố gắng học tập chăm chỉ nhé,label: 0\n",
      "sentence: Đừng có làm phiền tao nữa,label: 0\n",
      "sentence: Mong bạn luôn hạnh phúc,label: 0\n",
      "sentence: Sao mày ngu thế hả?,label: 0\n",
      "sentence: Học giỏi thì tương lai sáng lạn,label: 0\n",
      "sentence: m là thằng đĩ chó,label: 1\n",
      "sentence: cái bồn chứa tinh,label: 1\n",
      "\n",
      "Linear SVM:\n",
      "sentence: Tao ghét mày #$%^^^,label: 0\n",
      "sentence: Mày thật ngu %%%#^@^^,label: 1\n",
      "sentence: Chúc bạn một ngày vui vẻ,label: 0\n",
      "sentence: Cố gắng học tập chăm chỉ nhé,label: 0\n",
      "sentence: Đừng có làm phiền tao nữa,label: 0\n",
      "sentence: Mong bạn luôn hạnh phúc,label: 0\n",
      "sentence: Sao mày ngu thế hả?,label: 1\n",
      "sentence: Học giỏi thì tương lai sáng lạn,label: 0\n",
      "sentence: m là thằng đĩ chó,label: 1\n",
      "sentence: cái bồn chứa tinh,label: 1\n",
      "\n",
      "Kernel SVM (RBF):\n",
      "sentence: Tao ghét mày #$%^^^,label: 0\n",
      "sentence: Mày thật ngu %%%#^@^^,label: 1\n",
      "sentence: Chúc bạn một ngày vui vẻ,label: 0\n",
      "sentence: Cố gắng học tập chăm chỉ nhé,label: 0\n",
      "sentence: Đừng có làm phiền tao nữa,label: 0\n",
      "sentence: Mong bạn luôn hạnh phúc,label: 0\n",
      "sentence: Sao mày ngu thế hả?,label: 1\n",
      "sentence: Học giỏi thì tương lai sáng lạn,label: 0\n",
      "sentence: m là thằng đĩ chó,label: 1\n",
      "sentence: cái bồn chứa tinh,label: 0\n",
      "\n",
      "SGD Classifier:\n",
      "sentence: Tao ghét mày #$%^^^,label: 0\n",
      "sentence: Mày thật ngu %%%#^@^^,label: 1\n",
      "sentence: Chúc bạn một ngày vui vẻ,label: 0\n",
      "sentence: Cố gắng học tập chăm chỉ nhé,label: 0\n",
      "sentence: Đừng có làm phiền tao nữa,label: 0\n",
      "sentence: Mong bạn luôn hạnh phúc,label: 0\n",
      "sentence: Sao mày ngu thế hả?,label: 1\n",
      "sentence: Học giỏi thì tương lai sáng lạn,label: 0\n",
      "sentence: m là thằng đĩ chó,label: 1\n",
      "sentence: cái bồn chứa tinh,label: 0\n",
      "\n",
      "Decision Tree:\n",
      "sentence: Tao ghét mày #$%^^^,label: 0\n",
      "sentence: Mày thật ngu %%%#^@^^,label: 1\n",
      "sentence: Chúc bạn một ngày vui vẻ,label: 0\n",
      "sentence: Cố gắng học tập chăm chỉ nhé,label: 0\n",
      "sentence: Đừng có làm phiền tao nữa,label: 0\n",
      "sentence: Mong bạn luôn hạnh phúc,label: 0\n",
      "sentence: Sao mày ngu thế hả?,label: 1\n",
      "sentence: Học giỏi thì tương lai sáng lạn,label: 0\n",
      "sentence: m là thằng đĩ chó,label: 1\n",
      "sentence: cái bồn chứa tinh,label: 0\n",
      "\n",
      "Random Forest:\n",
      "sentence: Tao ghét mày #$%^^^,label: 0\n",
      "sentence: Mày thật ngu %%%#^@^^,label: 1\n",
      "sentence: Chúc bạn một ngày vui vẻ,label: 0\n",
      "sentence: Cố gắng học tập chăm chỉ nhé,label: 0\n",
      "sentence: Đừng có làm phiền tao nữa,label: 0\n",
      "sentence: Mong bạn luôn hạnh phúc,label: 0\n",
      "sentence: Sao mày ngu thế hả?,label: 1\n",
      "sentence: Học giỏi thì tương lai sáng lạn,label: 0\n",
      "sentence: m là thằng đĩ chó,label: 1\n",
      "sentence: cái bồn chứa tinh,label: 0\n",
      "\n",
      "Gradient Boosting:\n",
      "sentence: Tao ghét mày #$%^^^,label: 0\n",
      "sentence: Mày thật ngu %%%#^@^^,label: 1\n",
      "sentence: Chúc bạn một ngày vui vẻ,label: 0\n",
      "sentence: Cố gắng học tập chăm chỉ nhé,label: 0\n",
      "sentence: Đừng có làm phiền tao nữa,label: 0\n",
      "sentence: Mong bạn luôn hạnh phúc,label: 0\n",
      "sentence: Sao mày ngu thế hả?,label: 1\n",
      "sentence: Học giỏi thì tương lai sáng lạn,label: 0\n",
      "sentence: m là thằng đĩ chó,label: 1\n",
      "sentence: cái bồn chứa tinh,label: 0\n"
     ]
    }
   ],
   "source": [
    "test_sentences = [\n",
    "    \"Tao ghét mày #$%^^^\",\n",
    "    \"Mày thật ngu %%%#^@^^\",\n",
    "    \"Chúc bạn một ngày vui vẻ\",\n",
    "    \"Cố gắng học tập chăm chỉ nhé\",\n",
    "    \"Đừng có làm phiền tao nữa\",\n",
    "    \"Mong bạn luôn hạnh phúc\",\n",
    "    \"Sao mày ngu thế hả?\",\n",
    "    \"Học giỏi thì tương lai sáng lạn\",\n",
    "    \"m là thằng đĩ chó\",\n",
    "    \"cái bồn chứa tinh\"\n",
    "]\n",
    "\n",
    "X_new = [clean_text(sentence) for sentence in test_sentences]\n",
    "X_new = tfidf_vectorizer.transform(test_sentences)\n",
    "\n",
    "print(\"Predictions on new sentences:\")\n",
    "for name, model in models.items():\n",
    "    y_pred = model.predict(X_new)\n",
    "    print(f\"\\n{name}:\")\n",
    "    for sentence, pred in zip(test_sentences, y_pred):\n",
    "        print(f\"sentence: {sentence},label: {pred}\")"
   ]
  },
  {
   "cell_type": "markdown",
   "id": "08ee2dc3",
   "metadata": {},
   "source": [
    "# Các từ toxic"
   ]
  },
  {
   "cell_type": "code",
   "execution_count": 63,
   "id": "99ee6188",
   "metadata": {},
   "outputs": [
    {
     "name": "stdout",
     "output_type": "stream",
     "text": [
      "Đã xuất top 1000 từ toxic ra file top_1000_toxic_words.csv\n"
     ]
    },
    {
     "data": {
      "text/plain": [
       "['cc', 'clm', 'cl', 'dm', 'lồn', 'cặc', 'lol', 'lòn', 'sủa', 'khùng']"
      ]
     },
     "execution_count": 63,
     "metadata": {},
     "output_type": "execute_result"
    }
   ],
   "source": [
    "from sklearn.feature_extraction.text import CountVectorizer\n",
    "from sklearn.linear_model import LogisticRegression\n",
    "import pandas as pd\n",
    "\n",
    "\n",
    "df_train[\"free_text\"].head(10)\n",
    "vectorizer = CountVectorizer()\n",
    "X_train = vectorizer.fit_transform(df_train[\"free_text\"])\n",
    "y_train = df_train[\"label_id\"]\n",
    "\n",
    "\n",
    "model = LogisticRegression(max_iter=1000)\n",
    "model.fit(X_train, y_train)\n",
    "\n",
    "\n",
    "feature_names = vectorizer.get_feature_names_out()\n",
    "coefs = model.coef_[0]  \n",
    "\n",
    "coef_df = pd.DataFrame({\"word\": feature_names, \"coef\": coefs})\n",
    "\n",
    "\n",
    "coef_df = coef_df.sort_values(by=\"coef\", ascending=False)\n",
    "top_toxic_words = coef_df.head(500)  \n",
    "\n",
    "\n",
    "top_toxic_words.to_csv(\"top_1000_toxic_words.csv\", index=False)\n",
    "print(\"Đã xuất top 1000 từ toxic ra file top_1000_toxic_words.csv\")\n",
    "df_toxic = pd.read_csv(\"top_1000_toxic_words.csv\")\n",
    "top_toxic_words = df_toxic[\"word\"].tolist()\n",
    "\n",
    "\n",
    "top_toxic_words[:10]"
   ]
  },
  {
   "cell_type": "markdown",
   "id": "dbf52b17",
   "metadata": {},
   "source": [
    "# Thay các từ toxic thành *** khỏi câu"
   ]
  },
  {
   "cell_type": "code",
   "execution_count": null,
   "id": "317004dd",
   "metadata": {},
   "outputs": [],
   "source": [
    "def censor_toxic(text, toxic_words):\n",
    "    words = text.split()\n",
    "    censored_words = [\n",
    "        \"***\" if w.lower() in toxic_words else w\n",
    "        for w in words\n",
    "    ]\n",
    "    return \" \".join(censored_words)\n",
    "\n",
    "while True:\n",
    "    inp = input(\"Nhập câu: \")\n",
    "    if inp.lower() in [\"exit\", \"quit\"]:\n",
    "        break\n",
    "    print(censor_toxic(inp, top_toxic_words))\n"
   ]
  }
 ],
 "metadata": {
  "kernelspec": {
   "display_name": "NLP_venv",
   "language": "python",
   "name": "python3"
  },
  "language_info": {
   "codemirror_mode": {
    "name": "ipython",
    "version": 3
   },
   "file_extension": ".py",
   "mimetype": "text/x-python",
   "name": "python",
   "nbconvert_exporter": "python",
   "pygments_lexer": "ipython3",
   "version": "3.13.5"
  }
 },
 "nbformat": 4,
 "nbformat_minor": 5
}
