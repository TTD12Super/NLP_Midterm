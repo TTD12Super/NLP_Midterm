{
 "cells": [
  {
   "cell_type": "code",
   "execution_count": 2,
   "id": "28329765",
   "metadata": {},
   "outputs": [],
   "source": [
    "import pandas as pd\n",
    "import numpy as np"
   ]
  },
  {
   "cell_type": "code",
   "execution_count": 3,
   "id": "38862af8",
   "metadata": {},
   "outputs": [],
   "source": [
    "df_train = pd.read_csv(\"data/train.csv\")\n",
    "df_test = pd.read_csv(\"data/test.csv\")"
   ]
  },
  {
   "cell_type": "code",
   "execution_count": 4,
   "id": "dc3a38d5",
   "metadata": {},
   "outputs": [
    {
     "data": {
      "text/html": [
       "<div>\n",
       "<style scoped>\n",
       "    .dataframe tbody tr th:only-of-type {\n",
       "        vertical-align: middle;\n",
       "    }\n",
       "\n",
       "    .dataframe tbody tr th {\n",
       "        vertical-align: top;\n",
       "    }\n",
       "\n",
       "    .dataframe thead th {\n",
       "        text-align: right;\n",
       "    }\n",
       "</style>\n",
       "<table border=\"1\" class=\"dataframe\">\n",
       "  <thead>\n",
       "    <tr style=\"text-align: right;\">\n",
       "      <th></th>\n",
       "      <th>free_text</th>\n",
       "      <th>label_id</th>\n",
       "    </tr>\n",
       "  </thead>\n",
       "  <tbody>\n",
       "    <tr>\n",
       "      <th>0</th>\n",
       "      <td>Đừng cố biện minh =)))) choi lon</td>\n",
       "      <td>0</td>\n",
       "    </tr>\n",
       "    <tr>\n",
       "      <th>1</th>\n",
       "      <td>Haizz. Nthe này thì dân khổ quá</td>\n",
       "      <td>1</td>\n",
       "    </tr>\n",
       "    <tr>\n",
       "      <th>2</th>\n",
       "      <td>the nay ma chi phat gay roi trat tu cong cong ...</td>\n",
       "      <td>0</td>\n",
       "    </tr>\n",
       "    <tr>\n",
       "      <th>3</th>\n",
       "      <td>Mua cho em hộp bcs mĩ sài cho oai :))</td>\n",
       "      <td>0</td>\n",
       "    </tr>\n",
       "    <tr>\n",
       "      <th>4</th>\n",
       "      <td>coin card :3</td>\n",
       "      <td>1</td>\n",
       "    </tr>\n",
       "  </tbody>\n",
       "</table>\n",
       "</div>"
      ],
      "text/plain": [
       "                                           free_text  label_id\n",
       "0                   Đừng cố biện minh =)))) choi lon         0\n",
       "1                    Haizz. Nthe này thì dân khổ quá         1\n",
       "2  the nay ma chi phat gay roi trat tu cong cong ...         0\n",
       "3              Mua cho em hộp bcs mĩ sài cho oai :))         0\n",
       "4                                       coin card :3         1"
      ]
     },
     "execution_count": 4,
     "metadata": {},
     "output_type": "execute_result"
    }
   ],
   "source": [
    "df_test.head(5)"
   ]
  },
  {
   "cell_type": "code",
   "execution_count": 5,
   "id": "4762c341",
   "metadata": {},
   "outputs": [
    {
     "data": {
      "text/plain": [
       "free_text    0\n",
       "label_id     0\n",
       "dtype: int64"
      ]
     },
     "execution_count": 5,
     "metadata": {},
     "output_type": "execute_result"
    }
   ],
   "source": [
    "df_train = df_train.dropna()\n",
    "df_train.isna().sum()"
   ]
  },
  {
   "cell_type": "code",
   "execution_count": 6,
   "id": "ab85871a",
   "metadata": {},
   "outputs": [
    {
     "data": {
      "text/plain": [
       "free_text    0\n",
       "label_id     0\n",
       "dtype: int64"
      ]
     },
     "execution_count": 6,
     "metadata": {},
     "output_type": "execute_result"
    }
   ],
   "source": [
    "df_test = df_test.dropna()\n",
    "df_test.isna().sum()"
   ]
  },
  {
   "cell_type": "markdown",
   "id": "743b3bc4",
   "metadata": {},
   "source": [
    "# Hàm làm sạch văn bản"
   ]
  },
  {
   "cell_type": "code",
   "execution_count": 7,
   "id": "a5562125",
   "metadata": {},
   "outputs": [
    {
     "data": {
      "text/plain": [
       "0                              Đừng cố biện minh choi lon\n",
       "1                          Haizz Nthe này thì dân khổ quá\n",
       "2       the nay ma chi phat gay roi trat tu cong cong ...\n",
       "3                       Mua cho em hộp bcs mĩ sài cho oai\n",
       "4                                             coin card 3\n",
       "                              ...                        \n",
       "6675                   Nghe cũng được Nhưng vẫn cày views\n",
       "6676    Pha team up căng cực đến từ vị trí ông chủ đầm...\n",
       "6677    Thanh Nhường sao m đọc đc cmt của t thế tiên sư m\n",
       "6678    Đúng rồi nhìn có ria mép với mặt giống đàn ông...\n",
       "6679    Chưa chắc Mỹ bị nhiễm virus corona Vũ hán của ...\n",
       "Name: free_text, Length: 6680, dtype: object"
      ]
     },
     "execution_count": 7,
     "metadata": {},
     "output_type": "execute_result"
    }
   ],
   "source": [
    "import re\n",
    "def clean_text(sentence):\n",
    "    sentence = re.sub(r'[^a-zA-Z0-9À-Ỵà-ỹ\\s]', '', sentence)\n",
    "    sentence = re.sub(r'\\s+', ' ', sentence).strip()\n",
    "\n",
    "    return sentence\n",
    "\n",
    "\n",
    "df_train[\"free_text\"].apply(clean_text)\n",
    "df_test[\"free_text\"].apply(clean_text)\n"
   ]
  },
  {
   "cell_type": "markdown",
   "id": "f5dec521",
   "metadata": {},
   "source": [
    "# Convert word"
   ]
  },
  {
   "cell_type": "markdown",
   "id": "8be2055e",
   "metadata": {},
   "source": [
    "## Binary"
   ]
  },
  {
   "cell_type": "code",
   "execution_count": 8,
   "id": "04dade23",
   "metadata": {},
   "outputs": [],
   "source": [
    "from sklearn.feature_extraction.text import CountVectorizer\n",
    "\n",
    "\n",
    "binary_vectorizer =  CountVectorizer(binary=True)\n",
    "X_train = binary_vectorizer.fit_transform(df_train[\"free_text\"])\n",
    "y_train = df_train[\"label_id\"]\n",
    "X_test = binary_vectorizer.transform(df_test[\"free_text\"])\n",
    "y_test = df_test[\"label_id\"]"
   ]
  },
  {
   "cell_type": "markdown",
   "id": "46aaf537",
   "metadata": {},
   "source": [
    "# Models"
   ]
  },
  {
   "cell_type": "code",
   "execution_count": null,
   "id": "088eb394",
   "metadata": {},
   "outputs": [
    {
     "name": "stdout",
     "output_type": "stream",
     "text": [
      "Logistic Regression: 0.8657\n",
      "Naive Bayes (Multinomial): 0.8528\n",
      "Naive Bayes (Bernoulli): 0.8175\n",
      "Linear SVM: 0.8579\n",
      "Kernel SVM (RBF): 0.8552\n",
      "SGD Classifier: 0.8672\n",
      "Decision Tree: 0.8281\n",
      "Random Forest: 0.8560\n",
      "Gradient Boosting: 0.8548\n"
     ]
    }
   ],
   "source": [
    "# Các model\n",
    "from sklearn.linear_model import LogisticRegression, SGDClassifier\n",
    "from sklearn.naive_bayes import MultinomialNB, BernoulliNB\n",
    "from sklearn.svm import LinearSVC, SVC\n",
    "from sklearn.tree import DecisionTreeClassifier\n",
    "from sklearn.ensemble import RandomForestClassifier, GradientBoostingClassifier\n",
    "from sklearn.metrics import classification_report\n",
    "from sklearn.metrics import accuracy_score\n",
    "\n",
    "\n",
    "models = {\n",
    "    \"Logistic Regression\": LogisticRegression(max_iter=1000),\n",
    "    \"Naive Bayes (Multinomial)\": MultinomialNB(),\n",
    "    \"Naive Bayes (Bernoulli)\": BernoulliNB(),\n",
    "    \"Linear SVM\": LinearSVC(),\n",
    "    \"Kernel SVM (RBF)\": SVC(kernel=\"rbf\"),\n",
    "    \"SGD Classifier\": SGDClassifier(max_iter=1000, tol=1e-3),\n",
    "    \"Decision Tree\": DecisionTreeClassifier(),\n",
    "    \"Random Forest\": RandomForestClassifier(),\n",
    "    \"Gradient Boosting\": GradientBoostingClassifier()\n",
    "}\n",
    "\n",
    "accurr = []\n",
    "for name, model in models.items():\n",
    "    model.fit(X_train, y_train)\n",
    "    y_pred = model.predict(X_test)\n",
    "    acc = round(accuracy_score(y_test, y_pred),2)\n",
    "    accurr.append(acc)\n",
    "    print(f\"{name}: {acc:.4f}\")\n",
    "\n",
    "# for name, model in models.items():\n",
    "#     print(\"=\"*60)\n",
    "#     print(f\"Model: {name}\")\n",
    "#     model.fit(X_train, y_train)\n",
    "#     y_pred = model.predict(X_test)\n",
    "#     print(classification_report(y_test, y_pred))"
   ]
  },
  {
   "cell_type": "code",
   "execution_count": 12,
   "id": "dfb3cb77",
   "metadata": {},
   "outputs": [
    {
     "name": "stdout",
     "output_type": "stream",
     "text": [
      "['Logistic Regression', 'Naive Bayes (Multinomial)', 'Naive Bayes (Bernoulli)', 'Linear SVM', 'Kernel SVM (RBF)', 'SGD Classifier', 'Decision Tree', 'Random Forest', 'Gradient Boosting']\n",
      "[0.8657185628742515, 0.8528443113772455, 0.8175149700598803, 0.857934131736527, 0.8552395209580839, 0.8672155688622755, 0.8281437125748503, 0.8559880239520958, 0.8547904191616766]\n"
     ]
    }
   ],
   "source": [
    "models_name = [name for name,_ in models.items()]\n",
    "print(models_name)\n",
    "print(accurr)"
   ]
  }
 ],
 "metadata": {
  "kernelspec": {
   "display_name": "NLP_venv",
   "language": "python",
   "name": "python3"
  },
  "language_info": {
   "codemirror_mode": {
    "name": "ipython",
    "version": 3
   },
   "file_extension": ".py",
   "mimetype": "text/x-python",
   "name": "python",
   "nbconvert_exporter": "python",
   "pygments_lexer": "ipython3",
   "version": "3.13.5"
  }
 },
 "nbformat": 4,
 "nbformat_minor": 5
}
